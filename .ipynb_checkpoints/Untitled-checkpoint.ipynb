{
 "cells": [
  {
   "cell_type": "code",
   "execution_count": 1,
   "metadata": {},
   "outputs": [
    {
     "name": "stdout",
     "output_type": "stream",
     "text": [
      "Populating the interactive namespace from numpy and matplotlib\n"
     ]
    }
   ],
   "source": [
    "import mysql.connector\n",
    "from mysql.connector import Error\n",
    "%pylab inline \n",
    "import numpy as np\n",
    "import csv"
   ]
  },
  {
   "cell_type": "markdown",
   "metadata": {},
   "source": [
    "# Mysql belépés terminálból\n",
    "\n",
    "-  mysql -u root -p\n",
    "- password\n",
    "\n",
    "## Alap parancsok:\n",
    "\n",
    "- show databeses;\n",
    "- show tables;\n",
    "- use 'database';\n",
    "\n",
    "### Ezután az adaott adatbázisban minden ugyan ugy működik mint, ahigy tanultuk."
   ]
  },
  {
   "cell_type": "markdown",
   "metadata": {},
   "source": [
    "# Adatbázis létrehozása"
   ]
  },
  {
   "cell_type": "markdown",
   "metadata": {},
   "source": [
    "### MySql \n",
    "CREATE DATABASE \"pelda\""
   ]
  },
  {
   "cell_type": "markdown",
   "metadata": {},
   "source": [
    "## Python"
   ]
  },
  {
   "cell_type": "code",
   "execution_count": null,
   "metadata": {},
   "outputs": [],
   "source": [
    "db_connection = mysql.connector.connect(user='root', password='Straight666*>;32HZ',host='localhost')\n",
    "\n",
    "# creating database_cursor to perform SQL operation\n",
    "db_cursor = db_connection.cursor()"
   ]
  },
  {
   "cell_type": "code",
   "execution_count": null,
   "metadata": {},
   "outputs": [],
   "source": [
    "db_cursor.execute(\"SHOW DATABASES\")\n",
    "#print all databases\n",
    "for db in db_cursor:\n",
    "    print(db)"
   ]
  },
  {
   "cell_type": "code",
   "execution_count": null,
   "metadata": {},
   "outputs": [],
   "source": [
    "# executing cursor with execute method and pass SQL query\n",
    "db_cursor.execute(\"CREATE DATABASE pelda\")"
   ]
  },
  {
   "cell_type": "code",
   "execution_count": null,
   "metadata": {},
   "outputs": [],
   "source": [
    "db_cursor.execute(\"SHOW DATABASES\")\n",
    "#print all databases\n",
    "for db in db_cursor:\n",
    "    print(db)"
   ]
  },
  {
   "cell_type": "markdown",
   "metadata": {},
   "source": [
    "# Tábla létrehozása"
   ]
  },
  {
   "cell_type": "markdown",
   "metadata": {},
   "source": [
    "## MySql\n",
    "CREATE TABLE potluck (id INT NOT NULL PRIMARY KEY AUTO_INCREMENT, name VARCHAR(20),food VARCHAR(30),confirmed CHAR(1), signup_date DATE);\n"
   ]
  },
  {
   "cell_type": "markdown",
   "metadata": {},
   "source": [
    "## Python"
   ]
  },
  {
   "cell_type": "code",
   "execution_count": null,
   "metadata": {},
   "outputs": [],
   "source": [
    "tb_connection = mysql.connector.connect(user='root', password='Straight666*>;32HZ',host='localhost',\n",
    "                                        database='pelda') \n",
    "\n",
    "# creating database_cursor to perform SQL operation\n",
    "tb_cursor = tb_connection.cursor()"
   ]
  },
  {
   "cell_type": "code",
   "execution_count": null,
   "metadata": {},
   "outputs": [],
   "source": [
    "tb_cursor.execute(\"SHOW TABLES\")\n",
    "#print all databases\n",
    "for tb in tb_cursor:\n",
    "    print(tb)"
   ]
  },
  {
   "cell_type": "code",
   "execution_count": null,
   "metadata": {
    "scrolled": true
   },
   "outputs": [],
   "source": [
    "# executing cursor with execute method and pass SQL query\n",
    "tb_cursor.execute(\"CREATE TABLE adatok (signal_number INT NOT NULL PRIMARY KEY AUTO_INCREMENT, name VARCHAR(20),signal_value INT,unit VARCHAR(8))\")"
   ]
  },
  {
   "cell_type": "code",
   "execution_count": null,
   "metadata": {},
   "outputs": [],
   "source": [
    "tb_cursor.execute(\"SHOW TABLES\")\n",
    "#print all databases\n",
    "for tb in tb_cursor:\n",
    "    print(tb)"
   ]
  },
  {
   "cell_type": "code",
   "execution_count": null,
   "metadata": {
    "scrolled": true
   },
   "outputs": [],
   "source": [
    "tb_cursor.execute(\"DESCRIBE adatok\")\n",
    "#describe all databases\n",
    "for tb in tb_cursor:\n",
    "    print(tb)"
   ]
  },
  {
   "cell_type": "markdown",
   "metadata": {},
   "source": [
    "# Sor hozzáadása"
   ]
  },
  {
   "cell_type": "markdown",
   "metadata": {},
   "source": [
    "## MySql\n",
    "INSERT INTO `adatok` (`signal_number`,`name`,`unit`) VALUES (NULL, 'Livingroom_temp','C')\n",
    "\n",
    "### A \"sign_date\" -et nem kell megadnom azt automatikusan kitölti, hiszen beállítottuk."
   ]
  },
  {
   "cell_type": "markdown",
   "metadata": {},
   "source": [
    "# Python"
   ]
  },
  {
   "cell_type": "code",
   "execution_count": null,
   "metadata": {},
   "outputs": [],
   "source": [
    "in_connection = mysql.connector.connect(user='root', password='Straight666*>;32HZ',host='localhost',\n",
    "                                        database='pelda')\n",
    "in_cursor = in_connection.cursor()"
   ]
  },
  {
   "cell_type": "code",
   "execution_count": null,
   "metadata": {},
   "outputs": [],
   "source": [
    "in_cursor.execute('SELECT * FROM adatok')\n",
    "#print all\n",
    "for i in in_cursor:\n",
    "    print(i)"
   ]
  },
  {
   "cell_type": "code",
   "execution_count": null,
   "metadata": {},
   "outputs": [],
   "source": [
    "first = \"INSERT INTO `adatok` (`signal_number`,`name`, `signal_value`,`unit`) VALUES (NULL,'Livingroom','20','C')\"\n",
    "#Ha így adom meg a sort, akkor be kell írnom a NULL értéket az automatikus kitöltéshez.\n",
    "in_cursor.execute(first)\n",
    "in_connection.commit()\n",
    "print(in_cursor.rowcount, \"Record Inserted\")"
   ]
  },
  {
   "cell_type": "code",
   "execution_count": null,
   "metadata": {},
   "outputs": [],
   "source": [
    "in_cursor.execute('SELECT * FROM adatok')\n",
    "#print all\n",
    "for i in in_cursor:\n",
    "    print(i)"
   ]
  },
  {
   "cell_type": "markdown",
   "metadata": {},
   "source": [
    "# Sok adat beolvasása egyszerre array formában"
   ]
  },
  {
   "cell_type": "code",
   "execution_count": null,
   "metadata": {},
   "outputs": [],
   "source": [
    "connection = mysql.connector.connect(user='root', password='Straight666*>;32HZ',host='localhost',\n",
    "                                             database='pelda')"
   ]
  },
  {
   "cell_type": "code",
   "execution_count": null,
   "metadata": {},
   "outputs": [],
   "source": [
    "new = [('2', 'Livingroom','20','C'),\n",
    "        ('3', 'Bathroom','30','C'),\n",
    "        ('4', 'Livingroom','23','C'),\n",
    "        ('5', 'Livingroom','20','C'),\n",
    "        ('6', 'Bathroom','30','C'),\n",
    "        ('7', 'Livingroom','23','C')]\n",
    "cursor = connection.cursor()\n",
    "cursor.executemany('''insert into adatok (`signal_number`,`name`, `signal_value`,`unit`)\n",
    "                      values (%s,%s, %s,%s)''', new)\n",
    "connection.commit()"
   ]
  },
  {
   "cell_type": "code",
   "execution_count": null,
   "metadata": {},
   "outputs": [],
   "source": [
    "cursor.execute('SELECT * FROM adatok')\n",
    "#print all databases\n",
    "for i in cursor:\n",
    "    print(i)"
   ]
  },
  {
   "cell_type": "markdown",
   "metadata": {},
   "source": [
    "# Más módja automatizálásoz\n",
    "## Függvény formában"
   ]
  },
  {
   "cell_type": "code",
   "execution_count": null,
   "metadata": {},
   "outputs": [],
   "source": [
    "def insertVariblesIntoTable(signal_number,name, signal_value,unit):\n",
    "    try:\n",
    "        connection = mysql.connector.connect(user='root', password='Straight666*>;32HZ',host='localhost',\n",
    "                                             database='pelda')\n",
    "        cursor = connection.cursor()        \n",
    "        \n",
    "        mySql_insert_query = \"\"\"INSERT INTO adatok (signal_number,name,signal_value,unit) \n",
    "                                VALUES (%s, %s,%s, %s)\"\"\"\n",
    "\n",
    "        recordTuple = (signal_number,name, signal_value,unit)\n",
    "        cursor.execute(mySql_insert_query, recordTuple)\n",
    "        connection.commit()\n",
    "        print(\"Record inserted successfully into adatok table\")\n",
    "\n",
    "    except mysql.connector.Error as error:\n",
    "        print(\"Failed to insert into MySQL table {}\".format(error))\n",
    "\n",
    "    finally:\n",
    "        if (connection.is_connected()):\n",
    "            cursor.close()\n",
    "            connection.close()\n",
    "            print(\"MySQL connection is closed\")"
   ]
  },
  {
   "cell_type": "code",
   "execution_count": null,
   "metadata": {},
   "outputs": [],
   "source": [
    "insertVariblesIntoTable(666,'Bathroom', 7000,'C')"
   ]
  },
  {
   "cell_type": "code",
   "execution_count": null,
   "metadata": {},
   "outputs": [],
   "source": [
    "connection = mysql.connector.connect(user='root', password='Straight666*>;32HZ',host='localhost',\n",
    "                                     database='pelda')\n",
    "\n",
    "cursor = connection.cursor()\n",
    "cursor.execute('SELECT * FROM adatok')\n",
    "#print all databases\n",
    "for i in cursor:\n",
    "    print(i)"
   ]
  },
  {
   "cell_type": "markdown",
   "metadata": {},
   "source": [
    "# Python\n",
    "### Függvényként"
   ]
  },
  {
   "cell_type": "markdown",
   "metadata": {},
   "source": [
    "- Parancssorból töröljük az adatokat, mert összekutyulódhat;"
   ]
  },
  {
   "cell_type": "code",
   "execution_count": null,
   "metadata": {},
   "outputs": [],
   "source": [
    "def inserter(file_name):\n",
    "    connection = mysql.connector.connect(user='root', password='Straight666*>;32HZ',host='localhost',\n",
    "                                                 database='pelda')\n",
    "\n",
    "    cursor = connection.cursor()\n",
    "    with open(file_name) as f:\n",
    "        reader = csv.reader(f)\n",
    "        for row in reader:\n",
    "            cursor.execute(\"\"\"INSERT INTO adatok (signal_number,name,signal_value,unit) \n",
    "                                    VALUES (%s, %s,%s, %s)\"\"\", row)\n",
    "\n",
    "    \n",
    "    connection.commit()\n",
    "    cursor.close()\n",
    "    print (\"Done\")"
   ]
  },
  {
   "cell_type": "code",
   "execution_count": null,
   "metadata": {},
   "outputs": [],
   "source": [
    "inserter('proba.txt')"
   ]
  },
  {
   "cell_type": "code",
   "execution_count": null,
   "metadata": {},
   "outputs": [],
   "source": [
    "in_connection = mysql.connector.connect(user='root', password='Straight666*>;32HZ',host='localhost',\n",
    "                                        database='pelda')\n",
    "in_cursor = in_connection.cursor()\n",
    "in_cursor.execute('SELECT * FROM adatok')\n",
    "#print all databases\n",
    "for i in in_cursor:\n",
    "    print(i)"
   ]
  },
  {
   "cell_type": "markdown",
   "metadata": {},
   "source": [
    "# MySql \n",
    "# Adat beolvasása fileból\n",
    "\n",
    "### Ha nem a file -t tartalmazó mappából nyitottuk meg a MySql-t:\n",
    "\n",
    "- LOAD DATA LOCAL INFILE '/home/tomi/Dokumentumok/ELTE/projects/adatbazis/proba2.txt' INTO TABLE adatok FIELDS    TERMINATED BY ',' LINES TERMINATED BY '\\n';\n",
    "\n",
    "### Ha a file -t tartalmazó mappából nyitottuk meg a MySql-t:\n",
    "\n",
    "- LOAD DATA LOCAL INFILE 'proba2.txt' INTO TABLE adatok FIELDS TERMINATED BY ',' LINES TERMINATED BY '\\n';\n",
    "\n",
    "### !! Meg kell adni, hogy mivel vannak elválasztva egymástól az oszlopok és egymástól a sorok !!\n",
    "\n",
    "## Hibaüvenet lehet:\n",
    "\n",
    "### 1148 (42000): The used command is not allowed with this MySQL version.\n",
    "\n",
    "#### HIba orvoslása:\n",
    "\n",
    "- Ezt parancssorból: show global variables like 'local_infile';\n",
    "- Majd beállítom : set global local_infile=true;"
   ]
  },
  {
   "cell_type": "markdown",
   "metadata": {},
   "source": [
    "# Mindez Pythonban\n",
    "\n",
    "- figyelni kell, hogy az 'allow_local_infile=True' be legyen állítva\n",
    "\n",
    "### A python külön packege-t használ a mysql-hez \n",
    "\n",
    "- ami parancssorból működik az itt nem biztos"
   ]
  },
  {
   "cell_type": "code",
   "execution_count": null,
   "metadata": {},
   "outputs": [],
   "source": [
    "in_connection = mysql.connector.connect(user='root', password='Straight666*>;32HZ',host='localhost',database='pelda', allow_local_infile=True)\n",
    "\n",
    "\n",
    "in_cursor = in_connection.cursor()\n",
    "first = \"LOAD DATA LOCAL INFILE 'proba2.txt' INTO TABLE adatok FIELDS TERMINATED BY ',' LINES TERMINATED BY '\\n'\"\n",
    "in_cursor.execute(first)\n",
    "in_connection.commit()\n",
    "print(in_cursor.rowcount, \"Record Inserted\")"
   ]
  },
  {
   "cell_type": "code",
   "execution_count": null,
   "metadata": {},
   "outputs": [],
   "source": [
    "in_connection = mysql.connector.connect(user='root', password='Straight666*>;32HZ',host='localhost',database='pelda')\n",
    "in_cursor = in_connection.cursor()\n",
    "\n",
    "in_cursor.execute('SELECT * FROM adatok')\n",
    "#print all databases\n",
    "for i in in_cursor:\n",
    "    print(i)"
   ]
  },
  {
   "cell_type": "markdown",
   "metadata": {},
   "source": [
    "# Adat törlése"
   ]
  },
  {
   "cell_type": "markdown",
   "metadata": {},
   "source": [
    "## MySql\n",
    "Delete from adatok WHERE name = 'Livingroom';"
   ]
  },
  {
   "cell_type": "markdown",
   "metadata": {},
   "source": [
    "## Python"
   ]
  },
  {
   "cell_type": "code",
   "execution_count": null,
   "metadata": {},
   "outputs": [],
   "source": [
    "in_connection = mysql.connector.connect(user='root', password='Straight666*>;32HZ',\n",
    "                                            host='localhost',database='pelda')\n",
    "\n",
    "\n",
    "in_cursor = in_connection.cursor()\n",
    "first = \"Delete from adatok WHERE name = 'Livingroom'\"\n",
    "in_cursor.execute(first)\n",
    "in_connection.commit()\n",
    "print(in_cursor.rowcount, \"Record Deleted\")"
   ]
  },
  {
   "cell_type": "code",
   "execution_count": null,
   "metadata": {},
   "outputs": [],
   "source": [
    "in_connection = mysql.connector.connect(user='root', password='Straight666*>;32HZ',host='localhost',\n",
    "                                        database='pelda')\n",
    "\n",
    "in_cursor = in_connection.cursor()\n",
    "in_cursor.execute('SELECT * FROM adatok')\n",
    "#print all databases\n",
    "for i in in_cursor:\n",
    "    print(i)"
   ]
  },
  {
   "cell_type": "markdown",
   "metadata": {},
   "source": [
    "# Tábla törlése"
   ]
  },
  {
   "cell_type": "markdown",
   "metadata": {},
   "source": [
    "## MySql\n",
    "DROP TABLE potluck;"
   ]
  },
  {
   "cell_type": "markdown",
   "metadata": {},
   "source": [
    "## Python"
   ]
  },
  {
   "cell_type": "code",
   "execution_count": null,
   "metadata": {},
   "outputs": [],
   "source": [
    "db_connection = mysql.connector.connect(user='root', password='Straight666*>;32HZ',host='localhost',\n",
    "                                        database='pelda')\n",
    "db_cursor = db_connection.cursor()\n",
    "\n",
    "first = \"DROP TABLE adatok\"\n",
    "db_cursor.execute(first)\n",
    "db_connection.commit()"
   ]
  },
  {
   "cell_type": "code",
   "execution_count": null,
   "metadata": {},
   "outputs": [],
   "source": [
    "db_cursor.execute(\"SHOW TABLES\")\n",
    "#print all databases\n",
    "for db in db_cursor:\n",
    "        print(db)"
   ]
  },
  {
   "cell_type": "markdown",
   "metadata": {},
   "source": [
    "# Adatbázis törlése\n",
    "\n",
    "## MySql\n",
    "DROP DATABASE my_first_db;\n",
    "\n",
    "## Python\n"
   ]
  },
  {
   "cell_type": "code",
   "execution_count": 2,
   "metadata": {},
   "outputs": [
    {
     "ename": "DatabaseError",
     "evalue": "1008 (HY000): Can't drop database 'pelda'; database doesn't exist",
     "output_type": "error",
     "traceback": [
      "\u001b[0;31m---------------------------------------------------------------------------\u001b[0m",
      "\u001b[0;31mMySQLInterfaceError\u001b[0m                       Traceback (most recent call last)",
      "\u001b[0;32m/usr/local/lib/python3.6/dist-packages/mysql/connector/connection_cext.py\u001b[0m in \u001b[0;36mcmd_query\u001b[0;34m(self, query, raw, buffered, raw_as_string)\u001b[0m\n\u001b[1;32m    471\u001b[0m                                \u001b[0mraw\u001b[0m\u001b[0;34m=\u001b[0m\u001b[0mraw\u001b[0m\u001b[0;34m,\u001b[0m \u001b[0mbuffered\u001b[0m\u001b[0;34m=\u001b[0m\u001b[0mbuffered\u001b[0m\u001b[0;34m,\u001b[0m\u001b[0;34m\u001b[0m\u001b[0;34m\u001b[0m\u001b[0m\n\u001b[0;32m--> 472\u001b[0;31m                                raw_as_string=raw_as_string)\n\u001b[0m\u001b[1;32m    473\u001b[0m         \u001b[0;32mexcept\u001b[0m \u001b[0mMySQLInterfaceError\u001b[0m \u001b[0;32mas\u001b[0m \u001b[0mexc\u001b[0m\u001b[0;34m:\u001b[0m\u001b[0;34m\u001b[0m\u001b[0;34m\u001b[0m\u001b[0m\n",
      "\u001b[0;31mMySQLInterfaceError\u001b[0m: Can't drop database 'pelda'; database doesn't exist",
      "\nDuring handling of the above exception, another exception occurred:\n",
      "\u001b[0;31mDatabaseError\u001b[0m                             Traceback (most recent call last)",
      "\u001b[0;32m<ipython-input-2-26bc7a155b5f>\u001b[0m in \u001b[0;36m<module>\u001b[0;34m\u001b[0m\n\u001b[1;32m      2\u001b[0m \u001b[0mdb_cursor\u001b[0m \u001b[0;34m=\u001b[0m \u001b[0mdb_connection\u001b[0m\u001b[0;34m.\u001b[0m\u001b[0mcursor\u001b[0m\u001b[0;34m(\u001b[0m\u001b[0;34m)\u001b[0m\u001b[0;34m\u001b[0m\u001b[0;34m\u001b[0m\u001b[0m\n\u001b[1;32m      3\u001b[0m \u001b[0mfirst\u001b[0m \u001b[0;34m=\u001b[0m \u001b[0;34m\"DROP DATABASE pelda\"\u001b[0m\u001b[0;34m\u001b[0m\u001b[0;34m\u001b[0m\u001b[0m\n\u001b[0;32m----> 4\u001b[0;31m \u001b[0mdb_cursor\u001b[0m\u001b[0;34m.\u001b[0m\u001b[0mexecute\u001b[0m\u001b[0;34m(\u001b[0m\u001b[0mfirst\u001b[0m\u001b[0;34m)\u001b[0m\u001b[0;34m\u001b[0m\u001b[0;34m\u001b[0m\u001b[0m\n\u001b[0m\u001b[1;32m      5\u001b[0m \u001b[0mdb_connection\u001b[0m\u001b[0;34m.\u001b[0m\u001b[0mcommit\u001b[0m\u001b[0;34m(\u001b[0m\u001b[0;34m)\u001b[0m\u001b[0;34m\u001b[0m\u001b[0;34m\u001b[0m\u001b[0m\n",
      "\u001b[0;32m/usr/local/lib/python3.6/dist-packages/mysql/connector/cursor_cext.py\u001b[0m in \u001b[0;36mexecute\u001b[0;34m(self, operation, params, multi)\u001b[0m\n\u001b[1;32m    264\u001b[0m             result = self._cnx.cmd_query(stmt, raw=self._raw,\n\u001b[1;32m    265\u001b[0m                                          \u001b[0mbuffered\u001b[0m\u001b[0;34m=\u001b[0m\u001b[0mself\u001b[0m\u001b[0;34m.\u001b[0m\u001b[0m_buffered\u001b[0m\u001b[0;34m,\u001b[0m\u001b[0;34m\u001b[0m\u001b[0;34m\u001b[0m\u001b[0m\n\u001b[0;32m--> 266\u001b[0;31m                                          raw_as_string=self._raw_as_string)\n\u001b[0m\u001b[1;32m    267\u001b[0m         \u001b[0;32mexcept\u001b[0m \u001b[0mMySQLInterfaceError\u001b[0m \u001b[0;32mas\u001b[0m \u001b[0mexc\u001b[0m\u001b[0;34m:\u001b[0m\u001b[0;34m\u001b[0m\u001b[0;34m\u001b[0m\u001b[0m\n\u001b[1;32m    268\u001b[0m             raise errors.get_mysql_exception(msg=exc.msg, errno=exc.errno,\n",
      "\u001b[0;32m/usr/local/lib/python3.6/dist-packages/mysql/connector/connection_cext.py\u001b[0m in \u001b[0;36mcmd_query\u001b[0;34m(self, query, raw, buffered, raw_as_string)\u001b[0m\n\u001b[1;32m    473\u001b[0m         \u001b[0;32mexcept\u001b[0m \u001b[0mMySQLInterfaceError\u001b[0m \u001b[0;32mas\u001b[0m \u001b[0mexc\u001b[0m\u001b[0;34m:\u001b[0m\u001b[0;34m\u001b[0m\u001b[0;34m\u001b[0m\u001b[0m\n\u001b[1;32m    474\u001b[0m             raise errors.get_mysql_exception(exc.errno, msg=exc.msg,\n\u001b[0;32m--> 475\u001b[0;31m                                              sqlstate=exc.sqlstate)\n\u001b[0m\u001b[1;32m    476\u001b[0m         \u001b[0;32mexcept\u001b[0m \u001b[0mAttributeError\u001b[0m\u001b[0;34m:\u001b[0m\u001b[0;34m\u001b[0m\u001b[0;34m\u001b[0m\u001b[0m\n\u001b[1;32m    477\u001b[0m             \u001b[0;32mif\u001b[0m \u001b[0mself\u001b[0m\u001b[0;34m.\u001b[0m\u001b[0m_unix_socket\u001b[0m\u001b[0;34m:\u001b[0m\u001b[0;34m\u001b[0m\u001b[0;34m\u001b[0m\u001b[0m\n",
      "\u001b[0;31mDatabaseError\u001b[0m: 1008 (HY000): Can't drop database 'pelda'; database doesn't exist"
     ]
    }
   ],
   "source": [
    "db_connection = mysql.connector.connect(user='root', password='Straight666*>;32HZ',host='localhost')\n",
    "db_cursor = db_connection.cursor()\n",
    "first = \"DROP DATABASE pelda\"\n",
    "db_cursor.execute(first)\n",
    "db_connection.commit()"
   ]
  },
  {
   "cell_type": "code",
   "execution_count": 3,
   "metadata": {},
   "outputs": [
    {
     "name": "stdout",
     "output_type": "stream",
     "text": [
      "('information_schema',)\n",
      "('mysql',)\n",
      "('performance_schema',)\n",
      "('sys',)\n"
     ]
    }
   ],
   "source": [
    "db_cursor.execute(\"SHOW DATABASES\")\n",
    "#print all databases\n",
    "for db in db_cursor:\n",
    "    print(db)"
   ]
  },
  {
   "cell_type": "markdown",
   "metadata": {},
   "source": [
    "# Adatok kimentése munkához\n",
    "\n",
    "## MySql\n",
    "\n",
    "- alap beállításként egy bizonyos helyre ment a program ez megtekinthető:\n",
    "\n",
    "###### SELECT @@global.secure_file_priv;\n",
    "\n",
    "- A mentést ide kell irányítani, ha nem akarjuk átállítani:\n",
    "\n",
    "- Ki kell választani az adatbázist \" USE 'database' \". \n",
    "\n",
    "### SELECT * FROM adatok WHERE name = 'Livingroom'  INTO OUTFILE '/var/lib/mysql-files/cancelled_orders.dat' FIELDS TERMINATED BY ',' LINES TERMINATED BY '\\n';\n",
    "\n",
    "- Mindegy milyen kiterjesztéssal mentjük el.\n",
    "\n",
    "- Az adatok formályát meg kell adnom."
   ]
  },
  {
   "cell_type": "markdown",
   "metadata": {},
   "source": [
    "# Kimentés függvényként"
   ]
  },
  {
   "cell_type": "code",
   "execution_count": null,
   "metadata": {},
   "outputs": [],
   "source": [
    "def basics_ask(what_you_want):\n",
    "    in_connection = mysql.connector.connect(user='root', password='Straight666*>;32HZ',\n",
    "                                                host='localhost',database='pelda')\n",
    "\n",
    "\n",
    "    in_cursor = in_connection.cursor()\n",
    "    in_cursor.execute(what_you_want)\n",
    "    #in_connection.commit()--- itt nem kell commit-olni hiszen nem volt változtatás\n",
    "    \n",
    "    for i in in_cursor:\n",
    "        print(i)\n",
    "    in_cursor.close()"
   ]
  },
  {
   "cell_type": "code",
   "execution_count": null,
   "metadata": {},
   "outputs": [],
   "source": [
    "basics_ask(\"SELECT * FROM adatok WHERE name = 'Livingroom' INTO OUTFILE '/var/lib/mysql-files/cancelled_orders.txt' FIELDS TERMINATED BY ',' LINES TERMINATED BY '\\n'\")"
   ]
  },
  {
   "cell_type": "markdown",
   "metadata": {},
   "source": [
    "### Függvényként egyszerűbben\n",
    "\n",
    "- A speciális karakterek eltávolításához regex pacgage -t használom."
   ]
  },
  {
   "cell_type": "code",
   "execution_count": null,
   "metadata": {},
   "outputs": [],
   "source": [
    "def basics_asking(what_you_want, filename):\n",
    "    in_connection = mysql.connector.connect(user='root', password='Straight666*>;32HZ',\n",
    "                                                host='localhost',database='pelda')\n",
    "\n",
    "\n",
    "    in_cursor = in_connection.cursor()\n",
    "    in_cursor.execute(what_you_want)\n",
    "    #in_connection.commit()--- itt nem kell commit-olni hiszen nem volt változtatás\n",
    "    f= open(filename,\"a+\")\n",
    "    for i in in_cursor:\n",
    "        f.write(re.sub(\"([^a-zA-Z0-9\\s\\n]+)\", '', str(i)+'\\n'))\n",
    "        \n",
    "    in_cursor.close()"
   ]
  },
  {
   "cell_type": "code",
   "execution_count": null,
   "metadata": {},
   "outputs": [],
   "source": [
    "basics_asking(\"select * from adatok where signal_value = '30'\", \"probaljukki.txt\")"
   ]
  },
  {
   "cell_type": "markdown",
   "metadata": {},
   "source": [
    "Végrehajtó függvény"
   ]
  },
  {
   "cell_type": "code",
   "execution_count": null,
   "metadata": {
    "scrolled": true
   },
   "outputs": [],
   "source": [
    "def basics_do(what_you_want):\n",
    "    in_connection = mysql.connector.connect(user='root', password='Straight666*>;32HZ',\n",
    "                                                host='localhost',database='pelda')\n",
    "\n",
    "\n",
    "    in_cursor = in_connection.cursor()\n",
    "    in_cursor.execute(what_you_want)\n",
    "    in_connection.commit()\n",
    "    \n",
    "    for i in in_cursor:\n",
    "        print(i)\n",
    "    in_cursor.close()"
   ]
  },
  {
   "cell_type": "code",
   "execution_count": null,
   "metadata": {},
   "outputs": [],
   "source": [
    "basics_do(\"INSERT INTO `adatok` (`signal_number`,`name`, `signal_value`,`unit`) VALUES (NULL,'Livingroom','20','C')\")"
   ]
  },
  {
   "cell_type": "code",
   "execution_count": null,
   "metadata": {},
   "outputs": [],
   "source": [
    "basics_do(\"Delete from adatok WHERE name = 'Livingroom'\")"
   ]
  },
  {
   "cell_type": "code",
   "execution_count": null,
   "metadata": {},
   "outputs": [],
   "source": []
  }
 ],
 "metadata": {
  "kernelspec": {
   "display_name": "Python 3",
   "language": "python",
   "name": "python3"
  },
  "language_info": {
   "codemirror_mode": {
    "name": "ipython",
    "version": 3
   },
   "file_extension": ".py",
   "mimetype": "text/x-python",
   "name": "python",
   "nbconvert_exporter": "python",
   "pygments_lexer": "ipython3",
   "version": "3.6.8"
  }
 },
 "nbformat": 4,
 "nbformat_minor": 2
}
