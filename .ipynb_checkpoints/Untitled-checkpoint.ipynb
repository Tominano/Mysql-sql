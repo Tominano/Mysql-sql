{
 "cells": [
  {
   "cell_type": "code",
   "execution_count": null,
   "metadata": {},
   "outputs": [],
   "source": [
    "import mysql.connector"
   ]
  },
  {
   "cell_type": "markdown",
   "metadata": {},
   "source": [
    "# Adatbázis létrehozása"
   ]
  },
  {
   "cell_type": "markdown",
   "metadata": {},
   "source": [
    "### MySql \n",
    "CREATE DATABASE \"pelda\""
   ]
  },
  {
   "cell_type": "markdown",
   "metadata": {},
   "source": [
    "## Python"
   ]
  },
  {
   "cell_type": "code",
   "execution_count": null,
   "metadata": {},
   "outputs": [],
   "source": [
    "db_connection = mysql.connector.connect(user='root', password='Straight666*>;32HZ',host='localhost')\n",
    "\n",
    "# creating database_cursor to perform SQL operation\n",
    "db_cursor = db_connection.cursor()\n",
    "# executing cursor with execute method and pass SQL query\n",
    "db_cursor.execute(\"CREATE DATABASE pelda\")"
   ]
  },
  {
   "cell_type": "code",
   "execution_count": null,
   "metadata": {},
   "outputs": [],
   "source": [
    "db_connection = mysql.connector.connect(user='root', password='Straight666*>;32HZ',host='localhost')\n",
    "db_cursor = db_connection.cursor()\n",
    "db_cursor.execute(\"SHOW DATABASES\")\n",
    "#print all databases\n",
    "for db in db_cursor:\n",
    "    print(db)"
   ]
  },
  {
   "cell_type": "markdown",
   "metadata": {},
   "source": [
    "# Tábla létrehozása"
   ]
  },
  {
   "cell_type": "markdown",
   "metadata": {},
   "source": [
    "## MySql\n",
    "CREATE TABLE potluck (id INT NOT NULL PRIMARY KEY AUTO_INCREMENT, name VARCHAR(20),food VARCHAR(30),confirmed CHAR(1), signup_date DATE);\n"
   ]
  },
  {
   "cell_type": "markdown",
   "metadata": {},
   "source": [
    "## Python"
   ]
  },
  {
   "cell_type": "code",
   "execution_count": null,
   "metadata": {},
   "outputs": [],
   "source": [
    "tb_connection = mysql.connector.connect(user='root', password='Straight666*>;32HZ',host='localhost',database='pelda') \n",
    "\n",
    "# creating database_cursor to perform SQL operation\n",
    "tb_cursor = tb_connection.cursor()\n",
    "# executing cursor with execute method and pass SQL query\n",
    "tb_cursor.execute(\"CREATE TABLE adatok (signal_number INT NOT NULL PRIMARY KEY AUTO_INCREMENT, name VARCHAR(20),unit VARCHAR(8), sign_date TIMESTAMP DEFAULT CURRENT_TIMESTAMP)\")"
   ]
  },
  {
   "cell_type": "code",
   "execution_count": null,
   "metadata": {
    "scrolled": true
   },
   "outputs": [],
   "source": [
    "tb_connection = mysql.connector.connect(user='root', password='Straight666*>;32HZ',host='localhost',database='pelda')\n",
    "tb_cursor = tb_connection.cursor()\n",
    "tb_cursor.execute(\"DESCRIBE adatok\")\n",
    "#print all databases\n",
    "for tb in tb_cursor:\n",
    "    print(tb)"
   ]
  },
  {
   "cell_type": "markdown",
   "metadata": {},
   "source": [
    "# Sor hozzáadása"
   ]
  },
  {
   "cell_type": "markdown",
   "metadata": {},
   "source": [
    "## MySql\n",
    "INSERT INTO `adatok` (`signal_number`,`name`,`unit`) VALUES (NULL, 'Livingroom_temp','C')\n",
    "\n",
    "### A sign_date-et nem kell megadnom azt automatikusan kitölti."
   ]
  },
  {
   "cell_type": "markdown",
   "metadata": {},
   "source": [
    "# Python"
   ]
  },
  {
   "cell_type": "code",
   "execution_count": null,
   "metadata": {},
   "outputs": [],
   "source": [
    "in_connection = mysql.connector.connect(user='root', password='Straight666*>;32HZ',host='localhost',database='pelda')\n",
    "\n",
    "\n",
    "in_cursor = in_connection.cursor()\n",
    "first = \"INSERT INTO `adatok` (`signal_number`,`name`,`unit`) VALUES (NULL, 'Livingroom_temp','C')\"\n",
    "in_cursor.execute(first)\n",
    "in_connection.commit()\n",
    "print(in_cursor.rowcount, \"Record Inserted\")"
   ]
  },
  {
   "cell_type": "code",
   "execution_count": null,
   "metadata": {},
   "outputs": [],
   "source": [
    "in_connection = mysql.connector.connect(user='root', password='Straight666*>;32HZ',host='localhost',database='pelda')\n",
    "in_cursor = in_connection.cursor()\n",
    "\n",
    "in_cursor.execute('SELECT * FROM adatok')\n",
    "#print all databases\n",
    "for i in in_cursor:\n",
    "    print(i)\n"
   ]
  },
  {
   "cell_type": "markdown",
   "metadata": {},
   "source": [
    "# Adat törlése"
   ]
  },
  {
   "cell_type": "markdown",
   "metadata": {},
   "source": [
    "## MySql\n",
    "Delete from adatok WHERE name = 'Livingroom_temp';"
   ]
  },
  {
   "cell_type": "markdown",
   "metadata": {},
   "source": [
    "## Python"
   ]
  },
  {
   "cell_type": "code",
   "execution_count": null,
   "metadata": {},
   "outputs": [],
   "source": [
    "in_connection = mysql.connector.connect(user='root', password='Straight666*>;32HZ',host='localhost',database='pelda')\n",
    "\n",
    "\n",
    "in_cursor = in_connection.cursor()\n",
    "first = \"Delete from adatok WHERE name = 'Livingroom_temp'\"\n",
    "in_cursor.execute(first)\n",
    "in_connection.commit()\n",
    "print(in_cursor.rowcount, \"Record Deleted\")"
   ]
  },
  {
   "cell_type": "code",
   "execution_count": null,
   "metadata": {},
   "outputs": [],
   "source": [
    "in_connection = mysql.connector.connect(user='root', password='Straight666*>;32HZ',host='localhost',database='pelda')\n",
    "in_cursor = in_connection.cursor()\n",
    "\n",
    "in_cursor.execute('SELECT * FROM adatok')\n",
    "#print all databases\n",
    "for i in in_cursor:\n",
    "    print(i)"
   ]
  },
  {
   "cell_type": "markdown",
   "metadata": {},
   "source": [
    "# Tábla törlése"
   ]
  },
  {
   "cell_type": "markdown",
   "metadata": {},
   "source": [
    "## MySql\n",
    "DROP TABLE potluck;"
   ]
  },
  {
   "cell_type": "markdown",
   "metadata": {},
   "source": [
    "## Python"
   ]
  },
  {
   "cell_type": "code",
   "execution_count": null,
   "metadata": {},
   "outputs": [],
   "source": [
    "db_connection = mysql.connector.connect(user='root', password='Straight666*>;32HZ',host='localhost',database='pelda')\n",
    "db_cursor = db_connection.cursor()\n",
    "first = \"DROP TABLE adatok\"\n",
    "db_cursor.execute(first)\n",
    "db_connection.commit()"
   ]
  },
  {
   "cell_type": "code",
   "execution_count": null,
   "metadata": {},
   "outputs": [],
   "source": [
    "db_connection = mysql.connector.connect(user='root', password='Straight666*>;32HZ',host='localhost',database='pelda')\n",
    "\n",
    "db_cursor = db_connection.cursor()\n",
    "db_cursor.execute(\"SHOW TABLES\")\n",
    "#print all databases\n",
    "for db in db_cursor:\n",
    "    print(db)"
   ]
  },
  {
   "cell_type": "markdown",
   "metadata": {},
   "source": [
    "# Adatbázis törlése\n",
    "\n",
    "## MySql\n",
    "DROP DATABASE my_first_db;\n",
    "\n",
    "## Python\n"
   ]
  },
  {
   "cell_type": "code",
   "execution_count": null,
   "metadata": {},
   "outputs": [],
   "source": [
    "db_connection = mysql.connector.connect(user='root', password='Straight666*>;32HZ',host='localhost')\n",
    "db_cursor = db_connection.cursor()\n",
    "first = \"DROP DATABASE pelda\"\n",
    "db_cursor.execute(first)\n",
    "db_connection.commit()"
   ]
  },
  {
   "cell_type": "code",
   "execution_count": null,
   "metadata": {},
   "outputs": [],
   "source": [
    "db_connection = mysql.connector.connect(user='root', password='Straight666*>;32HZ',host='localhost')\n",
    "\n",
    "db_cursor = db_connection.cursor()\n",
    "db_cursor.execute(\"SHOW DATABASES\")\n",
    "#print all databases\n",
    "for db in db_cursor:\n",
    "    print(db)"
   ]
  },
  {
   "cell_type": "markdown",
   "metadata": {},
   "source": [
    "# Példaprogram"
   ]
  },
  {
   "cell_type": "code",
   "execution_count": 6,
   "metadata": {},
   "outputs": [
    {
     "ename": "NameError",
     "evalue": "name 'randrange' is not defined",
     "output_type": "error",
     "traceback": [
      "\u001b[0;31m---------------------------------------------------------------------------\u001b[0m",
      "\u001b[0;31mNameError\u001b[0m                                 Traceback (most recent call last)",
      "\u001b[0;32m<ipython-input-6-07033af57bbe>\u001b[0m in \u001b[0;36m<module>\u001b[0;34m\u001b[0m\n\u001b[1;32m      1\u001b[0m \u001b[0mplace\u001b[0m \u001b[0;34m=\u001b[0m \u001b[0;34m[\u001b[0m\u001b[0;34m\"Livingroom\"\u001b[0m\u001b[0;34m,\u001b[0m \u001b[0;34m\"Bathroom\"\u001b[0m\u001b[0;34m,\u001b[0m \u001b[0;34m\"Bedroom\"\u001b[0m\u001b[0;34m,\u001b[0m \u001b[0;34m\"Toilett\"\u001b[0m\u001b[0;34m]\u001b[0m\u001b[0;34m\u001b[0m\u001b[0;34m\u001b[0m\u001b[0m\n\u001b[1;32m      2\u001b[0m \u001b[0mdat\u001b[0m \u001b[0;34m=\u001b[0m \u001b[0;34m[\u001b[0m\u001b[0;34m\"temp\"\u001b[0m\u001b[0;34m,\u001b[0m\u001b[0;34m\"co2\"\u001b[0m\u001b[0;34m]\u001b[0m\u001b[0;34m\u001b[0m\u001b[0;34m\u001b[0m\u001b[0m\n\u001b[0;32m----> 3\u001b[0;31m \u001b[0mrandrange\u001b[0m\u001b[0;34m(\u001b[0m\u001b[0;34m)\u001b[0m\u001b[0;34m\u001b[0m\u001b[0;34m\u001b[0m\u001b[0m\n\u001b[0m",
      "\u001b[0;31mNameError\u001b[0m: name 'randrange' is not defined"
     ]
    }
   ],
   "source": [
    "place = [\"Livingroom\", \"Bathroom\", \"Bedroom\", \"Toilett\"]\n",
    "dat = [\"temp\",\"co2\"]\n",
    "randrange()"
   ]
  },
  {
   "cell_type": "code",
   "execution_count": null,
   "metadata": {},
   "outputs": [],
   "source": []
  }
 ],
 "metadata": {
  "kernelspec": {
   "display_name": "Python 3",
   "language": "python",
   "name": "python3"
  },
  "language_info": {
   "codemirror_mode": {
    "name": "ipython",
    "version": 3
   },
   "file_extension": ".py",
   "mimetype": "text/x-python",
   "name": "python",
   "nbconvert_exporter": "python",
   "pygments_lexer": "ipython3",
   "version": "3.6.8"
  }
 },
 "nbformat": 4,
 "nbformat_minor": 2
}
